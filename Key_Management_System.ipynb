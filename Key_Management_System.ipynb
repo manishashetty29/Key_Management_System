{
  "nbformat": 4,
  "nbformat_minor": 0,
  "metadata": {
    "colab": {
      "provenance": [],
      "authorship_tag": "ABX9TyMaCk+jr5vEFHyrSGGhUdvW",
      "include_colab_link": true
    },
    "kernelspec": {
      "name": "python3",
      "display_name": "Python 3"
    },
    "language_info": {
      "name": "python"
    }
  },
  "cells": [
    {
      "cell_type": "markdown",
      "metadata": {
        "id": "view-in-github",
        "colab_type": "text"
      },
      "source": [
        "<a href=\"https://colab.research.google.com/github/manishashetty29/Key_Management_System/blob/main/Key_Management_System.ipynb\" target=\"_parent\"><img src=\"https://colab.research.google.com/assets/colab-badge.svg\" alt=\"Open In Colab\"/></a>"
      ]
    },
    {
      "cell_type": "code",
      "execution_count": 4,
      "metadata": {
        "colab": {
          "base_uri": "https://localhost:8080/"
        },
        "id": "NRev4mj-0r4b",
        "outputId": "96f01ed9-b9e6-4953-c405-131377b04833"
      },
      "outputs": [
        {
          "output_type": "stream",
          "name": "stdout",
          "text": [
            "Symmetric Key Generated and Stored.\n",
            "Asymmetric Keys Generated and Stored.\n",
            "Diffie-Hellman Key Exchange Successful.\n",
            "AES Key Revoked.\n",
            "AES Key is Revoked.\n"
          ]
        }
      ],
      "source": [
        "from Crypto.PublicKey import RSA\n",
        "from Crypto.Cipher import AES, PKCS1_OAEP\n",
        "from Crypto.Random import get_random_bytes\n",
        "import hashlib\n",
        "import os\n",
        "\n",
        "# 1. Secure Key Generation and Storage\n",
        "\n",
        "def generate_symmetric_key():\n",
        "    key = get_random_bytes(32)  # 256-bit AES key\n",
        "    with open(\"symmetric_key.bin\", \"wb\") as f:\n",
        "        f.write(key)\n",
        "    return key\n",
        "\n",
        "def generate_asymmetric_keys():\n",
        "    key = RSA.generate(2048)\n",
        "    private_key = key.export_key()\n",
        "    public_key = key.publickey().export_key()\n",
        "    with open(\"private.pem\", \"wb\") as f:\n",
        "        f.write(private_key)\n",
        "    with open(\"public.pem\", \"wb\") as f:\n",
        "        f.write(public_key)\n",
        "    return private_key, public_key\n",
        "\n",
        "# 2. Secure Key Exchange Using Diffie-Hellman\n",
        "\n",
        "def diffie_hellman_key_exchange():\n",
        "    p = 23  # Prime number\n",
        "    g = 5   # Generator\n",
        "\n",
        "    private_key_a = int.from_bytes(get_random_bytes(16), \"big\") % p\n",
        "    private_key_b = int.from_bytes(get_random_bytes(16), \"big\") % p\n",
        "\n",
        "    public_key_a = (g ** private_key_a) % p\n",
        "    public_key_b = (g ** private_key_b) % p\n",
        "\n",
        "    shared_secret_a = (public_key_b ** private_key_a) % p\n",
        "    shared_secret_b = (public_key_a ** private_key_b) % p\n",
        "\n",
        "    assert shared_secret_a == shared_secret_b  # Both should compute the same shared secret\n",
        "\n",
        "    shared_key = hashlib.sha256(str(shared_secret_a).encode()).digest()\n",
        "    return shared_key\n",
        "\n",
        "# 3. Key Revocation Mechanism\n",
        "\n",
        "revoked_keys = set()\n",
        "\n",
        "def revoke_key(key_hash):\n",
        "    revoked_keys.add(key_hash)\n",
        "\n",
        "def is_key_revoked(key):\n",
        "    key_hash = hashlib.sha256(key).hexdigest()\n",
        "    return key_hash in revoked_keys\n",
        "\n",
        "# Running the functions\n",
        "aes_key = generate_symmetric_key()\n",
        "print(\"Symmetric Key Generated and Stored.\")\n",
        "\n",
        "private_key, public_key = generate_asymmetric_keys()\n",
        "print(\"Asymmetric Keys Generated and Stored.\")\n",
        "\n",
        "shared_key = diffie_hellman_key_exchange()\n",
        "print(\"Diffie-Hellman Key Exchange Successful.\")\n",
        "\n",
        "# Simulating key revocation\n",
        "revoke_key(hashlib.sha256(aes_key).hexdigest())\n",
        "print(\"AES Key Revoked.\")\n",
        "\n",
        "if is_key_revoked(aes_key):\n",
        "    print(\"AES Key is Revoked.\")\n",
        "else:\n",
        "    print(\"AES Key is Valid.\")"
      ]
    },
    {
      "cell_type": "code",
      "source": [
        "!pip install pycryptodome\n"
      ],
      "metadata": {
        "colab": {
          "base_uri": "https://localhost:8080/"
        },
        "id": "COUePaEK1Gfe",
        "outputId": "fe249805-b05e-481a-8ed6-89bcf12cf2ae"
      },
      "execution_count": 3,
      "outputs": [
        {
          "output_type": "stream",
          "name": "stdout",
          "text": [
            "Collecting pycryptodome\n",
            "  Downloading pycryptodome-3.22.0-cp37-abi3-manylinux_2_17_x86_64.manylinux2014_x86_64.whl.metadata (3.4 kB)\n",
            "Downloading pycryptodome-3.22.0-cp37-abi3-manylinux_2_17_x86_64.manylinux2014_x86_64.whl (2.3 MB)\n",
            "\u001b[2K   \u001b[90m━━━━━━━━━━━━━━━━━━━━━━━━━━━━━━━━━━━━━━━━\u001b[0m \u001b[32m2.3/2.3 MB\u001b[0m \u001b[31m20.7 MB/s\u001b[0m eta \u001b[36m0:00:00\u001b[0m\n",
            "\u001b[?25hInstalling collected packages: pycryptodome\n",
            "Successfully installed pycryptodome-3.22.0\n"
          ]
        }
      ]
    },
    {
      "cell_type": "code",
      "source": [],
      "metadata": {
        "id": "wrtmjFMt3F5r"
      },
      "execution_count": null,
      "outputs": []
    }
  ]
}